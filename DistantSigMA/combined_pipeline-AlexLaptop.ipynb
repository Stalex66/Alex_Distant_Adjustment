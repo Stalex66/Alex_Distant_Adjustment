{
 "cells": [
  {
   "cell_type": "markdown",
   "metadata": {
    "collapsed": false
   },
   "source": [
    "# Combined clustering & merging pipeline\n",
    "\n",
    "\n",
    "### Modules"
   ]
  },
  {
   "cell_type": "code",
   "execution_count": 1,
   "metadata": {
    "ExecuteTime": {
     "end_time": "2024-06-20T12:19:57.615804Z",
     "start_time": "2024-06-20T12:19:55.815216Z"
    },
    "collapsed": false
   },
   "outputs": [],
   "source": [
    "# Python modules\n",
    "import os\n",
    "\n",
    "#### DistantSigMA modules\n",
    "from misc import utilities as ut\n",
    "from DistantSigMA.clustering_routine import *\n",
    "from DistantSigMA.DistantSigMA.cluster_simulations import calculate_std_devs\n",
    "from DistantSigMA.DistantSigMA.scalefactor_sampling import lhc_lloyd\n",
    "\n",
    "# Tree/Graph modules\n",
    "from alex_workspace.ClusterHandler import ClusteringHandler\n",
    "from alex_workspace.NxGraphAssistant import NxGraphAssistant\n",
    "from alex_workspace.PlotHandler import PlotHandler\n",
    "from alex_workspace.Tree import Custom_Tree"
   ]
  },
  {
   "cell_type": "markdown",
   "metadata": {
    "collapsed": false
   },
   "source": [
    "## Setup"
   ]
  },
  {
   "cell_type": "code",
   "execution_count": 2,
   "metadata": {
    "ExecuteTime": {
     "end_time": "2024-06-20T12:19:57.618311Z",
     "start_time": "2024-06-20T12:19:57.616230Z"
    },
    "collapsed": false
   },
   "outputs": [],
   "source": [
    "# Paths\n",
    "output_path = ut.set_output_path(script_name=\"combined_pipeline\")\n",
    "\n",
    "run = \"combined_pipe_box_0\"\n",
    "output_path = output_path + f\"{run}/\"\n",
    "if not os.path.exists(output_path):\n",
    "    os.makedirs(output_path)"
   ]
  },
  {
   "cell_type": "markdown",
   "metadata": {
    "collapsed": false
   },
   "source": [
    "## Data"
   ]
  },
  {
   "cell_type": "code",
   "execution_count": 3,
   "metadata": {
    "ExecuteTime": {
     "end_time": "2024-06-20T12:20:09.330323Z",
     "start_time": "2024-06-20T12:19:57.619236Z"
    },
    "collapsed": false
   },
   "outputs": [],
   "source": [
    "# load the dataframe\n",
    "#df_load = pd.read_csv('../Data/Segments/Orion_labeled_segments_KNN_300_15-11-23.csv')\n",
    "df_load = pd.read_csv(r\"C:\\Users\\Alexm\\OneDrive - Universität Wien\\01_WINF\\Praktikum1\\Git2\\Distant_SigMA\\DistantSigMA\\DistantSigMA\\Data/Box_0.csv\")\n",
    "# Add new columns with value 1\n",
    "df_load['pmra_error'] = 1\n",
    "df_load['pmdec_error'] = 1\n",
    "df_load['radial_velocity_error'] = 1\n",
    "df_load['parallax_error'] = 1\n",
    "# df_load= df_load.reset_index(drop=True)\n",
    "\n",
    "\n",
    "# load data for error sampling (already slimmed)\n",
    "error_sampling_df = pd.read_csv(r\"C:\\Users\\Alexm\\OneDrive - Universität Wien\\01_WINF\\Praktikum1\\Git2\\Distant_SigMA\\DistantSigMA\\DistantSigMA\\Data/Gaia_DR3_1000pc_rs.csv\")\n",
    "#error_sampling_df[\"dist\"] = 1000 / error_sampling_df[\"parallax\"]\n",
    "#error_sampling_df.to_csv(\"../Data/Gaia/Gaia_DR3_1000pc_rs.csv\")"
   ]
  },
  {
   "cell_type": "markdown",
   "metadata": {
    "collapsed": false
   },
   "source": [
    "### Choosing data chunks"
   ]
  },
  {
   "cell_type": "raw",
   "metadata": {
    "collapsed": false
   },
   "source": [
    "# in case of using segmented data\n",
    "chunk_labels = df_load.region\n",
    "chunk = 0\n",
    "df_chunk = df_load[df_load.region == chunk]\n",
    "\n",
    "# extend output path\n",
    "result_path = output_path + f\"Region_{int(chunk)}/\"\n",
    "if not os.path.exists(result_path):\n",
    "    os.makedirs(result_path)"
   ]
  },
  {
   "cell_type": "markdown",
   "metadata": {
    "collapsed": false
   },
   "source": [
    "## Clustering\n",
    "\n",
    "Currently written for the scenario that the input is a single chunk without need for further splitting.\n",
    "\n",
    "### A) Preliminary solution"
   ]
  },
  {
   "cell_type": "code",
   "execution_count": null,
   "metadata": {
    "ExecuteTime": {
     "end_time": "2024-06-20T12:20:09.333698Z",
     "start_time": "2024-06-20T12:20:09.331641Z"
    },
    "collapsed": false
   },
   "outputs": [],
   "source": [
    "# Cluster parameters\n",
    "dict_prelim = dict(alpha=0.01,\n",
    "                   beta=0.99,\n",
    "                   knn_initcluster_graph=35,\n",
    "                   KNN_list=[15, 20, 25, 30],\n",
    "                   sfs=[0.1, 0.15, 0.2, 0.25, 0.3, 0.35, 0.4, 0.45, 0.5, 0.55],\n",
    "                   scaling=\"robust\",\n",
    "                   bh_correction=True)"
   ]
  },
  {
   "cell_type": "code",
   "execution_count": null,
   "metadata": {
    "ExecuteTime": {
     "end_time": "2024-06-20T12:23:49.355687Z",
     "start_time": "2024-06-20T12:20:09.335941Z"
    },
    "collapsed": false
   },
   "outputs": [
    {
     "name": "stdout",
     "output_type": "stream",
     "text": [
      "PART A) Starting clustering ... \n",
      "\n",
      "-- Current run with KNN = 15 -- \n",
      "\n",
      "Creating k-d trees of resampled data sets...\n",
      "Performing clustering for scale factor 0.1...\n",
      "Performing gradient ascend using a 15-NN density estimation.\n",
      "Updated significance threshold: 1.00e-05\n",
      "Creating k-d trees of resampled data sets...\n",
      "Performing clustering for scale factor 0.15...\n",
      "Performing gradient ascend using a 15-NN density estimation.\n",
      "Updated significance threshold: 1.00e-05\n",
      "Creating k-d trees of resampled data sets...\n",
      "Performing clustering for scale factor 0.2...\n",
      "Performing gradient ascend using a 15-NN density estimation.\n",
      "Updated significance threshold: 1.00e-05\n",
      "Creating k-d trees of resampled data sets...\n",
      "Performing clustering for scale factor 0.25...\n",
      "Performing gradient ascend using a 15-NN density estimation.\n",
      "Updated significance threshold: 1.00e-05\n",
      "Creating k-d trees of resampled data sets...\n",
      "Performing clustering for scale factor 0.3...\n",
      "Performing gradient ascend using a 15-NN density estimation.\n",
      "Updated significance threshold: 1.00e-05\n",
      "Creating k-d trees of resampled data sets...\n",
      "Performing clustering for scale factor 0.35...\n",
      "Performing gradient ascend using a 15-NN density estimation.\n",
      "Updated significance threshold: 1.00e-05\n",
      "Creating k-d trees of resampled data sets...\n",
      "Performing clustering for scale factor 0.4...\n",
      "Performing gradient ascend using a 15-NN density estimation.\n",
      "Updated significance threshold: 1.00e-05\n",
      "Creating k-d trees of resampled data sets...\n",
      "Performing clustering for scale factor 0.45...\n",
      "Performing gradient ascend using a 15-NN density estimation.\n",
      "Updated significance threshold: 1.00e-05\n",
      "Creating k-d trees of resampled data sets...\n",
      "Performing clustering for scale factor 0.5...\n",
      "Performing gradient ascend using a 15-NN density estimation.\n",
      "Updated significance threshold: 1.00e-05\n",
      "Creating k-d trees of resampled data sets...\n",
      "Performing clustering for scale factor 0.55...\n",
      "Performing gradient ascend using a 15-NN density estimation.\n",
      "Updated significance threshold: 7.27e-05\n",
      ":: Finished run for KNN=15! \n",
      ". Found 1 / 1 / 1 final clusters.\n",
      "-- Current run with KNN = 20 -- \n",
      "\n",
      "Creating k-d trees of resampled data sets...\n",
      "Performing clustering for scale factor 0.1...\n",
      "Performing gradient ascend using a 20-NN density estimation.\n",
      "Updated significance threshold: 1.00e-05\n",
      "Creating k-d trees of resampled data sets...\n",
      "Performing clustering for scale factor 0.15...\n",
      "Performing gradient ascend using a 20-NN density estimation.\n",
      "Updated significance threshold: 3.14e-05\n",
      "Creating k-d trees of resampled data sets...\n",
      "Performing clustering for scale factor 0.2...\n",
      "Performing gradient ascend using a 20-NN density estimation.\n",
      "Updated significance threshold: 1.00e-05\n",
      "Creating k-d trees of resampled data sets...\n",
      "Performing clustering for scale factor 0.25...\n",
      "Performing gradient ascend using a 20-NN density estimation.\n",
      "Updated significance threshold: 1.00e-05\n",
      "Creating k-d trees of resampled data sets...\n",
      "Performing clustering for scale factor 0.3...\n",
      "Performing gradient ascend using a 20-NN density estimation.\n",
      "Updated significance threshold: 1.00e-05\n",
      "Creating k-d trees of resampled data sets...\n",
      "Performing clustering for scale factor 0.35...\n",
      "Performing gradient ascend using a 20-NN density estimation.\n",
      "Updated significance threshold: 1.00e-05\n",
      "Creating k-d trees of resampled data sets...\n",
      "Performing clustering for scale factor 0.4...\n",
      "Performing gradient ascend using a 20-NN density estimation.\n",
      "Updated significance threshold: 1.00e-05\n",
      "Creating k-d trees of resampled data sets...\n",
      "Performing clustering for scale factor 0.45...\n",
      "Performing gradient ascend using a 20-NN density estimation.\n",
      "Updated significance threshold: 1.00e-05\n",
      "Creating k-d trees of resampled data sets...\n",
      "Performing clustering for scale factor 0.5...\n",
      "Performing gradient ascend using a 20-NN density estimation.\n",
      "Updated significance threshold: 1.00e-05\n",
      "Creating k-d trees of resampled data sets...\n",
      "Performing clustering for scale factor 0.55...\n",
      "Performing gradient ascend using a 20-NN density estimation.\n",
      "Updated significance threshold: 1.00e-05\n",
      ":: Finished run for KNN=20! \n",
      ". Found 1 / 1 / 1 final clusters.\n",
      "-- Current run with KNN = 25 -- \n",
      "\n",
      "Creating k-d trees of resampled data sets...\n",
      "Performing clustering for scale factor 0.1...\n",
      "Performing gradient ascend using a 25-NN density estimation.\n",
      "Updated significance threshold: 1.00e-05\n",
      "Creating k-d trees of resampled data sets...\n",
      "Performing clustering for scale factor 0.15...\n",
      "Performing gradient ascend using a 25-NN density estimation.\n",
      "Updated significance threshold: 1.00e-05\n",
      "Creating k-d trees of resampled data sets...\n",
      "Performing clustering for scale factor 0.2...\n",
      "Performing gradient ascend using a 25-NN density estimation.\n",
      "Updated significance threshold: 1.00e-05\n",
      "Creating k-d trees of resampled data sets...\n",
      "Performing clustering for scale factor 0.25...\n",
      "Performing gradient ascend using a 25-NN density estimation.\n",
      "Updated significance threshold: 1.00e-05\n",
      "Creating k-d trees of resampled data sets...\n",
      "Performing clustering for scale factor 0.3...\n",
      "Performing gradient ascend using a 25-NN density estimation.\n",
      "Updated significance threshold: 1.00e-05\n",
      "Creating k-d trees of resampled data sets...\n",
      "Performing clustering for scale factor 0.35...\n",
      "Performing gradient ascend using a 25-NN density estimation.\n",
      "Updated significance threshold: 1.00e-05\n",
      "Creating k-d trees of resampled data sets...\n",
      "Performing clustering for scale factor 0.4...\n",
      "Performing gradient ascend using a 25-NN density estimation.\n",
      "Updated significance threshold: 1.00e-05\n",
      "Creating k-d trees of resampled data sets...\n",
      "Performing clustering for scale factor 0.45...\n",
      "Performing gradient ascend using a 25-NN density estimation.\n",
      "Updated significance threshold: 1.00e-05\n",
      "Creating k-d trees of resampled data sets...\n",
      "Performing clustering for scale factor 0.5...\n",
      "Performing gradient ascend using a 25-NN density estimation.\n",
      "Updated significance threshold: 1.00e-05\n",
      "Creating k-d trees of resampled data sets...\n",
      "Performing clustering for scale factor 0.55...\n",
      "Performing gradient ascend using a 25-NN density estimation.\n",
      "Updated significance threshold: 1.00e-05\n",
      ":: Finished run for KNN=25! \n",
      ". Found 1 / 1 / 1 final clusters.\n",
      "-- Current run with KNN = 30 -- \n",
      "\n",
      "Creating k-d trees of resampled data sets...\n",
      "Performing clustering for scale factor 0.1...\n",
      "Performing gradient ascend using a 30-NN density estimation.\n",
      "Updated significance threshold: 1.00e-05\n",
      "Creating k-d trees of resampled data sets...\n",
      "Performing clustering for scale factor 0.15...\n",
      "Performing gradient ascend using a 30-NN density estimation.\n",
      "Updated significance threshold: 1.00e-05\n",
      "Creating k-d trees of resampled data sets...\n",
      "Performing clustering for scale factor 0.2...\n",
      "Performing gradient ascend using a 30-NN density estimation.\n",
      "Updated significance threshold: 1.00e-05\n",
      "Creating k-d trees of resampled data sets...\n",
      "Performing clustering for scale factor 0.25...\n",
      "Performing gradient ascend using a 30-NN density estimation.\n",
      "Updated significance threshold: 1.00e-05\n",
      "Creating k-d trees of resampled data sets...\n",
      "Performing clustering for scale factor 0.3...\n",
      "Performing gradient ascend using a 30-NN density estimation.\n",
      "Updated significance threshold: 1.00e-05\n",
      "Creating k-d trees of resampled data sets...\n",
      "Performing clustering for scale factor 0.35...\n",
      "Performing gradient ascend using a 30-NN density estimation.\n",
      "Updated significance threshold: 1.00e-05\n",
      "Creating k-d trees of resampled data sets...\n",
      "Performing clustering for scale factor 0.4...\n",
      "Performing gradient ascend using a 30-NN density estimation.\n",
      "Updated significance threshold: 1.00e-05\n",
      "Creating k-d trees of resampled data sets...\n",
      "Performing clustering for scale factor 0.45...\n",
      "Performing gradient ascend using a 30-NN density estimation.\n",
      "Updated significance threshold: 1.00e-05\n",
      "Creating k-d trees of resampled data sets...\n",
      "Performing clustering for scale factor 0.5...\n",
      "Performing gradient ascend using a 30-NN density estimation.\n",
      "Updated significance threshold: 1.00e-05\n",
      "Creating k-d trees of resampled data sets...\n",
      "Performing clustering for scale factor 0.55...\n",
      "Performing gradient ascend using a 30-NN density estimation.\n",
      "Updated significance threshold: 1.00e-05\n",
      ":: Finished run for KNN=30! \n",
      ". Found 1 / 1 / 1 final clusters.\n"
     ]
    }
   ],
   "source": [
    "chunk = 0\n",
    "df_chunk = df_load\n",
    "result_path = output_path\n",
    "\n",
    "print(f\"PART A) Starting clustering ... \\n\")\n",
    "\n",
    "df_prelim = run_clustering(region_label=chunk, df_input=df_chunk, sf_params=\"parallax_scaled\",\n",
    "                           parameter_dict=dict_prelim, mode=\"prelim\", output_loc=result_path)"
   ]
  },
  {
   "cell_type": "markdown",
   "metadata": {
    "collapsed": false
   },
   "source": [
    "### B) Simulate clusters and determine scale factors"
   ]
  },
  {
   "cell_type": "code",
   "execution_count": null,
   "metadata": {
    "ExecuteTime": {
     "end_time": "2024-06-20T12:23:58.002854Z",
     "start_time": "2024-06-20T12:23:49.357089Z"
    },
    "collapsed": false
   },
   "outputs": [
    {
     "name": "stdout",
     "output_type": "stream",
     "text": [
      "PART B) Simulating clusters ... \n",
      "\n"
     ]
    },
    {
     "ename": "KeyError",
     "evalue": "'dist'",
     "output_type": "error",
     "traceback": [
      "\u001b[1;31m---------------------------------------------------------------------------\u001b[0m",
      "\u001b[1;31mKeyError\u001b[0m                                  Traceback (most recent call last)",
      "File \u001b[1;32m~\\AppData\\Roaming\\Python\\Python312\\site-packages\\pandas\\core\\indexes\\base.py:3805\u001b[0m, in \u001b[0;36mIndex.get_loc\u001b[1;34m(self, key)\u001b[0m\n\u001b[0;32m   3804\u001b[0m \u001b[38;5;28;01mtry\u001b[39;00m:\n\u001b[1;32m-> 3805\u001b[0m     \u001b[38;5;28;01mreturn\u001b[39;00m \u001b[38;5;28;43mself\u001b[39;49m\u001b[38;5;241;43m.\u001b[39;49m\u001b[43m_engine\u001b[49m\u001b[38;5;241;43m.\u001b[39;49m\u001b[43mget_loc\u001b[49m\u001b[43m(\u001b[49m\u001b[43mcasted_key\u001b[49m\u001b[43m)\u001b[49m\n\u001b[0;32m   3806\u001b[0m \u001b[38;5;28;01mexcept\u001b[39;00m \u001b[38;5;167;01mKeyError\u001b[39;00m \u001b[38;5;28;01mas\u001b[39;00m err:\n",
      "File \u001b[1;32mindex.pyx:167\u001b[0m, in \u001b[0;36mpandas._libs.index.IndexEngine.get_loc\u001b[1;34m()\u001b[0m\n",
      "File \u001b[1;32mindex.pyx:196\u001b[0m, in \u001b[0;36mpandas._libs.index.IndexEngine.get_loc\u001b[1;34m()\u001b[0m\n",
      "File \u001b[1;32mpandas\\\\_libs\\\\hashtable_class_helper.pxi:7081\u001b[0m, in \u001b[0;36mpandas._libs.hashtable.PyObjectHashTable.get_item\u001b[1;34m()\u001b[0m\n",
      "File \u001b[1;32mpandas\\\\_libs\\\\hashtable_class_helper.pxi:7089\u001b[0m, in \u001b[0;36mpandas._libs.hashtable.PyObjectHashTable.get_item\u001b[1;34m()\u001b[0m\n",
      "\u001b[1;31mKeyError\u001b[0m: 'dist'",
      "\nThe above exception was the direct cause of the following exception:\n",
      "\u001b[1;31mKeyError\u001b[0m                                  Traceback (most recent call last)",
      "Cell \u001b[1;32mIn[27], line 3\u001b[0m\n\u001b[0;32m      1\u001b[0m \u001b[38;5;28mprint\u001b[39m(\u001b[38;5;124mf\u001b[39m\u001b[38;5;124m\"\u001b[39m\u001b[38;5;124mPART B) Simulating clusters ... \u001b[39m\u001b[38;5;130;01m\\n\u001b[39;00m\u001b[38;5;124m\"\u001b[39m)\n\u001b[1;32m----> 3\u001b[0m stds \u001b[38;5;241m=\u001b[39m \u001b[43mcalculate_std_devs\u001b[49m\u001b[43m(\u001b[49m\u001b[43minput_df\u001b[49m\u001b[38;5;241;43m=\u001b[39;49m\u001b[43mdf_prelim\u001b[49m\u001b[43m,\u001b[49m\u001b[43m \u001b[49m\u001b[43mSigMA_dict\u001b[49m\u001b[38;5;241;43m=\u001b[39;49m\u001b[43mdict_prelim\u001b[49m\u001b[43m,\u001b[49m\u001b[43m \u001b[49m\u001b[43msampling_data\u001b[49m\u001b[38;5;241;43m=\u001b[39;49m\u001b[43m \u001b[49m\u001b[43merror_sampling_df\u001b[49m\u001b[43m,\u001b[49m\u001b[43m \u001b[49m\u001b[43mn_artificial\u001b[49m\u001b[43m \u001b[49m\u001b[38;5;241;43m=\u001b[39;49m\u001b[43m \u001b[49m\u001b[38;5;241;43m1\u001b[39;49m\u001b[43m,\u001b[49m\u001b[43m \u001b[49m\u001b[43moutput_path\u001b[49m\u001b[43m \u001b[49m\u001b[38;5;241;43m=\u001b[39;49m\u001b[43m \u001b[49m\u001b[43mresult_path\u001b[49m\u001b[43m,\u001b[49m\u001b[43m \u001b[49m\u001b[43mplot_figs\u001b[49m\u001b[43m \u001b[49m\u001b[38;5;241;43m=\u001b[39;49m\u001b[43m \u001b[49m\u001b[38;5;28;43;01mFalse\u001b[39;49;00m\u001b[43m)\u001b[49m\n\u001b[0;32m      5\u001b[0m \u001b[38;5;66;03m# save scaling factors in Data directory\u001b[39;00m\n\u001b[0;32m      6\u001b[0m directory \u001b[38;5;241m=\u001b[39m \u001b[38;5;124mr\u001b[39m\u001b[38;5;124m\"\u001b[39m\u001b[38;5;124mC:\u001b[39m\u001b[38;5;124m\\\u001b[39m\u001b[38;5;124mUsers\u001b[39m\u001b[38;5;124m\\\u001b[39m\u001b[38;5;124mAlexm\u001b[39m\u001b[38;5;124m\\\u001b[39m\u001b[38;5;124mOneDrive - Universität Wien\u001b[39m\u001b[38;5;124m\\\u001b[39m\u001b[38;5;124m01_WINF\u001b[39m\u001b[38;5;124m\\\u001b[39m\u001b[38;5;124mPraktikum1\u001b[39m\u001b[38;5;124m\\\u001b[39m\u001b[38;5;124mGit2\u001b[39m\u001b[38;5;124m\\\u001b[39m\u001b[38;5;124mDistant_SigMA\u001b[39m\u001b[38;5;124m\\\u001b[39m\u001b[38;5;124mDistantSigMA\u001b[39m\u001b[38;5;124m\\\u001b[39m\u001b[38;5;124mDistantSigMA\u001b[39m\u001b[38;5;124m\\\u001b[39m\u001b[38;5;124mData/Scale_factors\u001b[39m\u001b[38;5;124m\"\u001b[39m\n",
      "File \u001b[1;32m~\\OneDrive - Universität Wien\\01_WINF\\Praktikum1\\Git\\Distant_SigMA\\DistantSigMA\\DistantSigMA\\cluster_simulations.py:240\u001b[0m, in \u001b[0;36mcalculate_std_devs\u001b[1;34m(input_df, SigMA_dict, sampling_data, n_artificial, output_path, plot_figs)\u001b[0m\n\u001b[0;32m    238\u001b[0m \u001b[38;5;66;03m# Simulate the cluster from its covariance matrix and convolve it with Gaia errors\u001b[39;00m\n\u001b[0;32m    239\u001b[0m sim \u001b[38;5;241m=\u001b[39m SimulateCluster(region_data\u001b[38;5;241m=\u001b[39mdf_clusters, group_id\u001b[38;5;241m=\u001b[39mgroup, clustering_features\u001b[38;5;241m=\u001b[39mcluster_features)\n\u001b[1;32m--> 240\u001b[0m e_convolved_cluster \u001b[38;5;241m=\u001b[39m \u001b[43msim\u001b[49m\u001b[38;5;241;43m.\u001b[39;49m\u001b[43merror_convolve\u001b[49m\u001b[43m(\u001b[49m\u001b[43msampling_data\u001b[49m\u001b[38;5;241;43m=\u001b[39;49m\u001b[43msampling_data\u001b[49m\u001b[43m)\u001b[49m\n\u001b[0;32m    241\u001b[0m sim_df \u001b[38;5;241m=\u001b[39m pd\u001b[38;5;241m.\u001b[39mDataFrame(data\u001b[38;5;241m=\u001b[39msim\u001b[38;5;241m.\u001b[39me_convolved_points,\n\u001b[0;32m    242\u001b[0m                       columns\u001b[38;5;241m=\u001b[39m[\u001b[38;5;124m\"\u001b[39m\u001b[38;5;124mra\u001b[39m\u001b[38;5;124m\"\u001b[39m, \u001b[38;5;124m\"\u001b[39m\u001b[38;5;124mdec\u001b[39m\u001b[38;5;124m\"\u001b[39m, \u001b[38;5;124m\"\u001b[39m\u001b[38;5;124mparallax\u001b[39m\u001b[38;5;124m\"\u001b[39m, \u001b[38;5;124m\"\u001b[39m\u001b[38;5;124mpmra\u001b[39m\u001b[38;5;124m\"\u001b[39m, \u001b[38;5;124m\"\u001b[39m\u001b[38;5;124mpmdec\u001b[39m\u001b[38;5;124m\"\u001b[39m, \u001b[38;5;124m\"\u001b[39m\u001b[38;5;124mX\u001b[39m\u001b[38;5;124m\"\u001b[39m, \u001b[38;5;124m\"\u001b[39m\u001b[38;5;124mY\u001b[39m\u001b[38;5;124m\"\u001b[39m, \u001b[38;5;124m\"\u001b[39m\u001b[38;5;124mZ\u001b[39m\u001b[38;5;124m\"\u001b[39m]) \\\n\u001b[0;32m    243\u001b[0m     \u001b[38;5;241m.\u001b[39massign(label\u001b[38;5;241m=\u001b[39m\u001b[38;5;28mint\u001b[39m(group))\n\u001b[0;32m    244\u001b[0m e_convolved_dfs\u001b[38;5;241m.\u001b[39mappend(sim_df)\n",
      "File \u001b[1;32m~\\OneDrive - Universität Wien\\01_WINF\\Praktikum1\\Git\\Distant_SigMA\\DistantSigMA\\DistantSigMA\\cluster_simulations.py:99\u001b[0m, in \u001b[0;36mSimulateCluster.error_convolve\u001b[1;34m(self, sampling_data, return_coords)\u001b[0m\n\u001b[0;32m     96\u001b[0m parallax \u001b[38;5;241m=\u001b[39m \u001b[38;5;241m1000\u001b[39m \u001b[38;5;241m/\u001b[39m dist\n\u001b[0;32m     98\u001b[0m \u001b[38;5;66;03m# Sample errors from the data\u001b[39;00m\n\u001b[1;32m---> 99\u001b[0m ra_errors \u001b[38;5;241m=\u001b[39m \u001b[38;5;28;43mself\u001b[39;49m\u001b[38;5;241;43m.\u001b[39;49m\u001b[43msample_errors\u001b[49m\u001b[43m(\u001b[49m\u001b[43mcoord_to_sample\u001b[49m\u001b[38;5;241;43m=\u001b[39;49m\u001b[38;5;124;43m'\u001b[39;49m\u001b[38;5;124;43mra_error\u001b[39;49m\u001b[38;5;124;43m'\u001b[39;49m\u001b[43m,\u001b[49m\u001b[43m \u001b[49m\u001b[43msampling_data\u001b[49m\u001b[38;5;241;43m=\u001b[39;49m\u001b[43msampling_data\u001b[49m\u001b[43m)\u001b[49m\n\u001b[0;32m    100\u001b[0m dec_errors \u001b[38;5;241m=\u001b[39m \u001b[38;5;28mself\u001b[39m\u001b[38;5;241m.\u001b[39msample_errors(coord_to_sample\u001b[38;5;241m=\u001b[39m\u001b[38;5;124m'\u001b[39m\u001b[38;5;124mdec_error\u001b[39m\u001b[38;5;124m'\u001b[39m, sampling_data\u001b[38;5;241m=\u001b[39msampling_data)\n\u001b[0;32m    101\u001b[0m parallax_errors \u001b[38;5;241m=\u001b[39m \u001b[38;5;28mself\u001b[39m\u001b[38;5;241m.\u001b[39msample_errors(coord_to_sample\u001b[38;5;241m=\u001b[39m\u001b[38;5;124m'\u001b[39m\u001b[38;5;124mparallax_error\u001b[39m\u001b[38;5;124m'\u001b[39m, sampling_data\u001b[38;5;241m=\u001b[39msampling_data)\n",
      "File \u001b[1;32m~\\OneDrive - Universität Wien\\01_WINF\\Praktikum1\\Git\\Distant_SigMA\\DistantSigMA\\DistantSigMA\\cluster_simulations.py:89\u001b[0m, in \u001b[0;36mSimulateCluster.sample_errors\u001b[1;34m(self, coord_to_sample, sampling_data)\u001b[0m\n\u001b[0;32m     84\u001b[0m \u001b[38;5;28;01mdef\u001b[39;00m \u001b[38;5;21msample_errors\u001b[39m(\u001b[38;5;28mself\u001b[39m, coord_to_sample, sampling_data):\n\u001b[0;32m     85\u001b[0m \n\u001b[0;32m     86\u001b[0m     \u001b[38;5;66;03m# in the .loc[x, :] attribute, the entire sampling_data dataframe is masked based on whether the calculated\u001b[39;00m\n\u001b[0;32m     87\u001b[0m     \u001b[38;5;66;03m# distance is within 4 pc of the cluster center\u001b[39;00m\n\u001b[0;32m     88\u001b[0m     \u001b[38;5;66;03m# from the masked array, #n_sample errors are sampled from the specified column\u001b[39;00m\n\u001b[1;32m---> 89\u001b[0m     \u001b[38;5;28;01mreturn\u001b[39;00m sampling_data\u001b[38;5;241m.\u001b[39mloc[(\u001b[43msampling_data\u001b[49m\u001b[43m[\u001b[49m\u001b[38;5;124;43m\"\u001b[39;49m\u001b[38;5;124;43mdist\u001b[39;49m\u001b[38;5;124;43m\"\u001b[39;49m\u001b[43m]\u001b[49m \u001b[38;5;241m>\u001b[39m\u001b[38;5;241m=\u001b[39m \u001b[38;5;28mself\u001b[39m\u001b[38;5;241m.\u001b[39mmean_dist \u001b[38;5;241m-\u001b[39m \u001b[38;5;241m2\u001b[39m) \u001b[38;5;241m&\u001b[39m\n\u001b[0;32m     90\u001b[0m                              (sampling_data[\u001b[38;5;124m\"\u001b[39m\u001b[38;5;124mdist\u001b[39m\u001b[38;5;124m\"\u001b[39m] \u001b[38;5;241m<\u001b[39m\u001b[38;5;241m=\u001b[39m \u001b[38;5;28mself\u001b[39m\u001b[38;5;241m.\u001b[39mmean_dist \u001b[38;5;241m+\u001b[39m \u001b[38;5;241m2\u001b[39m), coord_to_sample]\u001b[38;5;241m.\u001b[39msample(\n\u001b[0;32m     91\u001b[0m         \u001b[38;5;28mself\u001b[39m\u001b[38;5;241m.\u001b[39mn_samples)\u001b[38;5;241m.\u001b[39mvalues\n",
      "File \u001b[1;32m~\\AppData\\Roaming\\Python\\Python312\\site-packages\\pandas\\core\\frame.py:4090\u001b[0m, in \u001b[0;36mDataFrame.__getitem__\u001b[1;34m(self, key)\u001b[0m\n\u001b[0;32m   4088\u001b[0m \u001b[38;5;28;01mif\u001b[39;00m \u001b[38;5;28mself\u001b[39m\u001b[38;5;241m.\u001b[39mcolumns\u001b[38;5;241m.\u001b[39mnlevels \u001b[38;5;241m>\u001b[39m \u001b[38;5;241m1\u001b[39m:\n\u001b[0;32m   4089\u001b[0m     \u001b[38;5;28;01mreturn\u001b[39;00m \u001b[38;5;28mself\u001b[39m\u001b[38;5;241m.\u001b[39m_getitem_multilevel(key)\n\u001b[1;32m-> 4090\u001b[0m indexer \u001b[38;5;241m=\u001b[39m \u001b[38;5;28;43mself\u001b[39;49m\u001b[38;5;241;43m.\u001b[39;49m\u001b[43mcolumns\u001b[49m\u001b[38;5;241;43m.\u001b[39;49m\u001b[43mget_loc\u001b[49m\u001b[43m(\u001b[49m\u001b[43mkey\u001b[49m\u001b[43m)\u001b[49m\n\u001b[0;32m   4091\u001b[0m \u001b[38;5;28;01mif\u001b[39;00m is_integer(indexer):\n\u001b[0;32m   4092\u001b[0m     indexer \u001b[38;5;241m=\u001b[39m [indexer]\n",
      "File \u001b[1;32m~\\AppData\\Roaming\\Python\\Python312\\site-packages\\pandas\\core\\indexes\\base.py:3812\u001b[0m, in \u001b[0;36mIndex.get_loc\u001b[1;34m(self, key)\u001b[0m\n\u001b[0;32m   3807\u001b[0m     \u001b[38;5;28;01mif\u001b[39;00m \u001b[38;5;28misinstance\u001b[39m(casted_key, \u001b[38;5;28mslice\u001b[39m) \u001b[38;5;129;01mor\u001b[39;00m (\n\u001b[0;32m   3808\u001b[0m         \u001b[38;5;28misinstance\u001b[39m(casted_key, abc\u001b[38;5;241m.\u001b[39mIterable)\n\u001b[0;32m   3809\u001b[0m         \u001b[38;5;129;01mand\u001b[39;00m \u001b[38;5;28many\u001b[39m(\u001b[38;5;28misinstance\u001b[39m(x, \u001b[38;5;28mslice\u001b[39m) \u001b[38;5;28;01mfor\u001b[39;00m x \u001b[38;5;129;01min\u001b[39;00m casted_key)\n\u001b[0;32m   3810\u001b[0m     ):\n\u001b[0;32m   3811\u001b[0m         \u001b[38;5;28;01mraise\u001b[39;00m InvalidIndexError(key)\n\u001b[1;32m-> 3812\u001b[0m     \u001b[38;5;28;01mraise\u001b[39;00m \u001b[38;5;167;01mKeyError\u001b[39;00m(key) \u001b[38;5;28;01mfrom\u001b[39;00m \u001b[38;5;21;01merr\u001b[39;00m\n\u001b[0;32m   3813\u001b[0m \u001b[38;5;28;01mexcept\u001b[39;00m \u001b[38;5;167;01mTypeError\u001b[39;00m:\n\u001b[0;32m   3814\u001b[0m     \u001b[38;5;66;03m# If we have a listlike key, _check_indexing_error will raise\u001b[39;00m\n\u001b[0;32m   3815\u001b[0m     \u001b[38;5;66;03m#  InvalidIndexError. Otherwise we fall through and re-raise\u001b[39;00m\n\u001b[0;32m   3816\u001b[0m     \u001b[38;5;66;03m#  the TypeError.\u001b[39;00m\n\u001b[0;32m   3817\u001b[0m     \u001b[38;5;28mself\u001b[39m\u001b[38;5;241m.\u001b[39m_check_indexing_error(key)\n",
      "\u001b[1;31mKeyError\u001b[0m: 'dist'"
     ]
    }
   ],
   "source": [
    "\n",
    "print(f\"PART B) Simulating clusters ... \\n\")\n",
    "\n",
    "stds = calculate_std_devs(input_df=df_prelim, SigMA_dict=dict_prelim, sampling_data= error_sampling_df, n_artificial = 1, output_path = result_path, plot_figs = False)\n",
    "\n",
    "# save scaling factors in Data directory\n",
    "directory = r\"C:\\Users\\Alexm\\OneDrive - Universität Wien\\01_WINF\\Praktikum1\\Git2\\Distant_SigMA\\DistantSigMA\\DistantSigMA\\Data/Scale_factors\"\n",
    "filename = f\"sfs_region_{chunk}.txt\"\n",
    "\n",
    "# Open the file in write mode ('w')\n",
    "with open(f\"{directory}/{filename}\", 'w') as file:\n",
    "    for i, label in enumerate([\"ra\", \"dec\", \"parallax\", \"pmra\", \"pmdec\"]):\n",
    "        print(f\"{label}:\", np.min(stds[i, :]), np.mean(stds[i, :]), np.max(stds[i, :]), file=file)"
   ]
  },
  {
   "cell_type": "markdown",
   "metadata": {
    "collapsed": false
   },
   "source": [
    "### C) Cluster with new SF"
   ]
  },
  {
   "cell_type": "code",
   "execution_count": null,
   "metadata": {
    "ExecuteTime": {
     "end_time": "2024-06-20T12:23:58.005998Z",
     "start_time": "2024-06-20T12:23:58.003655Z"
    },
    "collapsed": false
   },
   "outputs": [],
   "source": [
    "# determine the number of SF to draw using lhc_lloyd sampling\n",
    "num_sf = 100"
   ]
  },
  {
   "cell_type": "code",
   "execution_count": null,
   "metadata": {
    "ExecuteTime": {
     "end_time": "2024-06-20T12:34:27.583117Z",
     "start_time": "2024-06-20T12:23:58.009036Z"
    },
    "collapsed": false
   },
   "outputs": [
    {
     "name": "stdout",
     "output_type": "stream",
     "text": [
      "-- Current run with KNN = 20 -- \n",
      "\n",
      "Creating k-d trees of resampled data sets...\n",
      "Performing clustering for scale factor p[0.006007194301347941, 0.13205057715099539, 1.6393694254777984][0.25341471024260803, 0.13662604394940758]...\n",
      "Performing gradient ascend using a 20-NN density estimation.\n",
      "Creating k-d trees of resampled data sets...\n",
      "Performing clustering for scale factor p[0.005849791593027561, 0.13258503319171255, 1.5234537449219805][0.2835772585261156, 0.13538788931843954]...\n",
      "Performing gradient ascend using a 20-NN density estimation.\n",
      "Creating k-d trees of resampled data sets...\n",
      "Performing clustering for scale factor p[0.0058633955144854035, 0.11328143539556133, 1.6497889658731428][0.3057685976493958, 0.1442629615081197]...\n",
      "Performing gradient ascend using a 20-NN density estimation.\n",
      "Creating k-d trees of resampled data sets...\n",
      "Performing clustering for scale factor p[0.00643623361148067, 0.1283406746682865, 1.5184707032119715][0.2631104239898311, 0.14741274502196747]...\n",
      "Performing gradient ascend using a 20-NN density estimation.\n",
      "Creating k-d trees of resampled data sets...\n",
      "Performing clustering for scale factor p[0.0058680551239547706, 0.10897685208737318, 1.5099492396596483][0.2742503374748404, 0.13587361971548903]...\n",
      "Performing gradient ascend using a 20-NN density estimation.\n",
      "Creating k-d trees of resampled data sets...\n",
      "Performing clustering for scale factor p[0.006067126865178073, 0.11552280801655525, 1.541183429545741][0.23771819738432742, 0.1470977195701013]...\n",
      "Performing gradient ascend using a 20-NN density estimation.\n",
      "Creating k-d trees of resampled data sets...\n",
      "Performing clustering for scale factor p[0.006480165652687103, 0.11470777554425453, 1.7203207927994548][0.28579846464816644, 0.1442128784068965]...\n",
      "Performing gradient ascend using a 20-NN density estimation.\n",
      "Creating k-d trees of resampled data sets...\n",
      "Performing clustering for scale factor p[0.0060891347023134985, 0.11178563771103957, 1.5774538860865632][0.33070640575195986, 0.13746845147656947]...\n",
      "Performing gradient ascend using a 20-NN density estimation.\n",
      "Creating k-d trees of resampled data sets...\n",
      "Performing clustering for scale factor p[0.005926400766557148, 0.10419821064564157, 1.48880423020021][0.32623029422360145, 0.1518061712995738]...\n",
      "Performing gradient ascend using a 20-NN density estimation.\n",
      "Creating k-d trees of resampled data sets...\n",
      "Performing clustering for scale factor p[0.0061285205053933775, 0.13079152977384292, 1.6513529915519443][0.2687520204462796, 0.1518894978870729]...\n",
      "Performing gradient ascend using a 20-NN density estimation.\n",
      "Creating k-d trees of resampled data sets...\n",
      "Performing clustering for scale factor p[0.005853111593565777, 0.12696256928476096, 1.5467749348490933][0.29620216161933716, 0.13871538304970593]...\n",
      "Performing gradient ascend using a 20-NN density estimation.\n",
      "Creating k-d trees of resampled data sets...\n",
      "Performing clustering for scale factor p[0.006414443732469057, 0.13100862816384817, 1.6640441824259984][0.28852619803702234, 0.13680403457982168]...\n",
      "Performing gradient ascend using a 20-NN density estimation.\n",
      "Creating k-d trees of resampled data sets...\n",
      "Performing clustering for scale factor p[0.005936885968593464, 0.13135745458800765, 1.7522268311503582][0.29335224261498294, 0.14884841038907334]...\n",
      "Performing gradient ascend using a 20-NN density estimation.\n",
      "Creating k-d trees of resampled data sets...\n",
      "Performing clustering for scale factor p[0.006195317827763793, 0.12301538336586151, 1.4788910439622158][0.3139378965560291, 0.14352717731346376]...\n",
      "Performing gradient ascend using a 20-NN density estimation.\n",
      "Creating k-d trees of resampled data sets...\n",
      "Performing clustering for scale factor p[0.005971989071335165, 0.11269835286134515, 1.4803766874836388][0.30087291324606247, 0.14446266391803408]...\n",
      "Performing gradient ascend using a 20-NN density estimation.\n",
      "Creating k-d trees of resampled data sets...\n",
      "Performing clustering for scale factor p[0.0064744556605859675, 0.10544917173975862, 1.7388337937703817][0.2931944562346794, 0.15003120637713346]...\n",
      "Performing gradient ascend using a 20-NN density estimation.\n",
      "Creating k-d trees of resampled data sets...\n",
      "Performing clustering for scale factor p[0.006467184073559511, 0.10730624516581876, 1.6426774610619674][0.3173660735423278, 0.1404375260928892]...\n",
      "Performing gradient ascend using a 20-NN density estimation.\n",
      "Creating k-d trees of resampled data sets...\n",
      "Performing clustering for scale factor p[0.00639164230162185, 0.11220695012715227, 1.6023099280364768][0.3596217683710311, 0.1371087216433608]...\n",
      "Performing gradient ascend using a 20-NN density estimation.\n",
      "Creating k-d trees of resampled data sets...\n",
      "Performing clustering for scale factor p[0.005861072755887046, 0.12519640859919057, 1.7126646705603934][0.24000696711185943, 0.14288529744272896]...\n",
      "Performing gradient ascend using a 20-NN density estimation.\n",
      "Creating k-d trees of resampled data sets...\n",
      "Performing clustering for scale factor p[0.006493295137394312, 0.11778934932385712, 1.5952759019134892][0.26437951188254927, 0.1422964761465833]...\n",
      "Performing gradient ascend using a 20-NN density estimation.\n",
      "Creating k-d trees of resampled data sets...\n",
      "Performing clustering for scale factor p[0.006505623272705746, 0.126439711360093, 1.6723407510257633][0.25140992575647864, 0.13513066370445434]...\n",
      "Performing gradient ascend using a 20-NN density estimation.\n",
      "Creating k-d trees of resampled data sets...\n",
      "Performing clustering for scale factor p[0.00633100378547046, 0.10113626210221176, 1.6979634759898459][0.30587723864577565, 0.151154938025426]...\n",
      "Performing gradient ascend using a 20-NN density estimation.\n",
      "Creating k-d trees of resampled data sets...\n",
      "Performing clustering for scale factor p[0.006039290910384553, 0.10944460900540193, 1.7288894456877724][0.3316340093586213, 0.1454600184260326]...\n",
      "Performing gradient ascend using a 20-NN density estimation.\n",
      "Creating k-d trees of resampled data sets...\n",
      "Performing clustering for scale factor p[0.006173505894435169, 0.11772832396634313, 1.6278318677223493][0.23689213103825918, 0.144355442075281]...\n",
      "Performing gradient ascend using a 20-NN density estimation.\n",
      "Creating k-d trees of resampled data sets...\n",
      "Performing clustering for scale factor p[0.006164895505314541, 0.12137949134996893, 1.7633454809616915][0.3363914906898547, 0.1445826388700283]...\n",
      "Performing gradient ascend using a 20-NN density estimation.\n",
      "Creating k-d trees of resampled data sets...\n",
      "Performing clustering for scale factor p[0.006408780445032531, 0.13516657752961564, 1.4372236101664921][0.3561190857893559, 0.1437356219717362]...\n",
      "Performing gradient ascend using a 20-NN density estimation.\n",
      "Creating k-d trees of resampled data sets...\n",
      "Performing clustering for scale factor p[0.006195618276009286, 0.1226497826713192, 1.4972259184626755][0.24769948670454517, 0.14020538698244595]...\n",
      "Performing gradient ascend using a 20-NN density estimation.\n",
      "Creating k-d trees of resampled data sets...\n",
      "Performing clustering for scale factor p[0.006461240209828661, 0.13334988106510093, 1.4450398903024178][0.312535093626225, 0.14071270734921484]...\n",
      "Performing gradient ascend using a 20-NN density estimation.\n",
      "Creating k-d trees of resampled data sets...\n",
      "Performing clustering for scale factor p[0.005909281201519183, 0.10480774339215161, 1.4542770783995702][0.24281990975738693, 0.14920060151976475]...\n",
      "Performing gradient ascend using a 20-NN density estimation.\n",
      "Creating k-d trees of resampled data sets...\n",
      "Performing clustering for scale factor p[0.0060988792400032245, 0.12961156409922286, 1.6922810524842489][0.3004888985459808, 0.13760436271257248]...\n",
      "Performing gradient ascend using a 20-NN density estimation.\n",
      "Creating k-d trees of resampled data sets...\n",
      "Performing clustering for scale factor p[0.006374683117460159, 0.10626738826332773, 1.5557200496974688][0.3084631831992589, 0.1352788812036383]...\n",
      "Performing gradient ascend using a 20-NN density estimation.\n",
      "Creating k-d trees of resampled data sets...\n",
      "Performing clustering for scale factor p[0.006314132060422024, 0.10221727210172604, 1.5857223331225794][0.2853742498337301, 0.1482381027558254]...\n",
      "Performing gradient ascend using a 20-NN density estimation.\n",
      "Creating k-d trees of resampled data sets...\n",
      "Performing clustering for scale factor p[0.0064467595033419955, 0.10000210362391673, 1.6671420848584027][0.3149415199976647, 0.1465819136106304]...\n",
      "Performing gradient ascend using a 20-NN density estimation.\n",
      "Creating k-d trees of resampled data sets...\n",
      "Performing clustering for scale factor p[0.0062770146317812315, 0.1153423861536977, 1.548819788911504][0.30202113255738955, 0.136918321430364]...\n",
      "Performing gradient ascend using a 20-NN density estimation.\n",
      "Creating k-d trees of resampled data sets...\n",
      "Performing clustering for scale factor p[0.006114714925122814, 0.11863839591162122, 1.7562426295650044][0.26566479255137776, 0.1433392213291498]...\n",
      "Performing gradient ascend using a 20-NN density estimation.\n",
      "Creating k-d trees of resampled data sets...\n",
      "Performing clustering for scale factor p[0.006012229794540389, 0.10150846756921685, 1.4768829044313472][0.26006882538179155, 0.14005573863410287]...\n",
      "Performing gradient ascend using a 20-NN density estimation.\n",
      "Creating k-d trees of resampled data sets...\n",
      "Performing clustering for scale factor p[0.006385137966481388, 0.10278264330199127, 1.7466048624552277][0.2368375698143405, 0.1468229953713479]...\n",
      "Performing gradient ascend using a 20-NN density estimation.\n",
      "Creating k-d trees of resampled data sets...\n",
      "Performing clustering for scale factor p[0.005886486353359128, 0.10793590954909137, 1.7283651549339776][0.30374812178394983, 0.13558534958196586]...\n",
      "Performing gradient ascend using a 20-NN density estimation.\n",
      "Creating k-d trees of resampled data sets...\n",
      "Performing clustering for scale factor p[0.006096038245835899, 0.11820008918744361, 1.50329071646535][0.254129531760567, 0.15211015728595545]...\n",
      "Performing gradient ascend using a 20-NN density estimation.\n",
      "Creating k-d trees of resampled data sets...\n",
      "Performing clustering for scale factor p[0.0061567866264777065, 0.10926887128045301, 1.7056003994731634][0.3533503783701189, 0.1410116761790255]...\n",
      "Performing gradient ascend using a 20-NN density estimation.\n",
      "Creating k-d trees of resampled data sets...\n",
      "Performing clustering for scale factor p[0.006027774559448455, 0.10255459676296684, 1.447904820221814][0.348156678491364, 0.14184412408220332]...\n",
      "Performing gradient ascend using a 20-NN density estimation.\n",
      "Creating k-d trees of resampled data sets...\n",
      "Performing clustering for scale factor p[0.0062027986546380675, 0.1352456514077643, 1.6427012267618435][0.3540847545550463, 0.1412746496789473]...\n",
      "Performing gradient ascend using a 20-NN density estimation.\n",
      "Creating k-d trees of resampled data sets...\n",
      "Performing clustering for scale factor p[0.006355528122117291, 0.11941315396169169, 1.7459546310250076][0.32782673801183104, 0.14488906942471041]...\n",
      "Performing gradient ascend using a 20-NN density estimation.\n",
      "Creating k-d trees of resampled data sets...\n",
      "Performing clustering for scale factor p[0.006271244979241018, 0.13461814663590657, 1.458334565974161][0.3326257370809835, 0.1348566964669943]...\n",
      "Performing gradient ascend using a 20-NN density estimation.\n",
      "Creating k-d trees of resampled data sets...\n",
      "Performing clustering for scale factor p[0.00592840838205417, 0.1036536484122509, 1.6144256768362115][0.33474041921381714, 0.14508580029496665]...\n",
      "Performing gradient ascend using a 20-NN density estimation.\n",
      "Creating k-d trees of resampled data sets...\n",
      "Performing clustering for scale factor p[0.00634860659195625, 0.1145382008059872, 1.5900732737985548][0.2353455738469496, 0.14959137141184187]...\n",
      "Performing gradient ascend using a 20-NN density estimation.\n",
      "Creating k-d trees of resampled data sets...\n",
      "Performing clustering for scale factor p[0.00626776518822206, 0.1217510228233775, 1.5948941168061956][0.28966985142464585, 0.15249555625233524]...\n",
      "Performing gradient ascend using a 20-NN density estimation.\n",
      "Creating k-d trees of resampled data sets...\n",
      "Performing clustering for scale factor p[0.006397895521152904, 0.12567725087790715, 1.6281121916799184][0.319035702038294, 0.14467788126873132]...\n",
      "Performing gradient ascend using a 20-NN density estimation.\n",
      "Creating k-d trees of resampled data sets...\n",
      "Performing clustering for scale factor p[0.0061015267063515965, 0.1116327494010856, 1.5807509339784886][0.27999274768219695, 0.14384147146667436]...\n",
      "Performing gradient ascend using a 20-NN density estimation.\n",
      "Creating k-d trees of resampled data sets...\n",
      "Performing clustering for scale factor p[0.00610278808951288, 0.10585234779989228, 1.599653929118453][0.2537278240159043, 0.15000547620126298]...\n",
      "Performing gradient ascend using a 20-NN density estimation.\n",
      "Creating k-d trees of resampled data sets...\n",
      "Performing clustering for scale factor p[0.006017130669382098, 0.10522441576170555, 1.5702556132007526][0.3500892586592417, 0.14717687689499925]...\n",
      "Performing gradient ascend using a 20-NN density estimation.\n",
      "Creating k-d trees of resampled data sets...\n",
      "Performing clustering for scale factor p[0.0062843531250435835, 0.10813567942274177, 1.461233322594285][0.29539315038872804, 0.14396384558164696]...\n",
      "Performing gradient ascend using a 20-NN density estimation.\n",
      "Creating k-d trees of resampled data sets...\n",
      "Performing clustering for scale factor p[0.006075124192735722, 0.1365248746958293, 1.5370842884812466][0.29361906834024226, 0.1409413068610773]...\n",
      "Performing gradient ascend using a 20-NN density estimation.\n",
      "Creating k-d trees of resampled data sets...\n",
      "Performing clustering for scale factor p[0.0060518728728162115, 0.13576228371458046, 1.6963708296738955][0.2675045730458904, 0.13615976089200565]...\n",
      "Performing gradient ascend using a 20-NN density estimation.\n",
      "Creating k-d trees of resampled data sets...\n",
      "Performing clustering for scale factor p[0.00587149643060171, 0.11907363775352171, 1.5059286129673184][0.30801912888711996, 0.14842641593818337]...\n",
      "Performing gradient ascend using a 20-NN density estimation.\n",
      "Creating k-d trees of resampled data sets...\n",
      "Performing clustering for scale factor p[0.006167332906817325, 0.13472022931890998, 1.7345325918678771][0.31188351666203246, 0.14971775094247317]...\n",
      "Performing gradient ascend using a 20-NN density estimation.\n",
      "Creating k-d trees of resampled data sets...\n",
      "Performing clustering for scale factor p[0.006300368861689476, 0.1043449428115648, 1.7824858926010199][0.2759597546813659, 0.14554497926171567]...\n",
      "Performing gradient ascend using a 20-NN density estimation.\n",
      "Creating k-d trees of resampled data sets...\n",
      "Performing clustering for scale factor p[0.006184694661712594, 0.11596892557194904, 1.4408762425269344][0.32953008027940683, 0.1530770959767348]...\n",
      "Performing gradient ascend using a 20-NN density estimation.\n",
      "Creating k-d trees of resampled data sets...\n",
      "Performing clustering for scale factor p[0.006486935826423666, 0.13063875644250472, 1.7556029567372815][0.36053288199608247, 0.14129465603850636]...\n",
      "Performing gradient ascend using a 20-NN density estimation.\n",
      "Creating k-d trees of resampled data sets...\n",
      "Performing clustering for scale factor p[0.006119571040709138, 0.13000095019488264, 1.4653097479950306][0.26436450183652643, 0.14944322020667158]...\n",
      "Performing gradient ascend using a 20-NN density estimation.\n",
      "Creating k-d trees of resampled data sets...\n",
      "Performing clustering for scale factor p[0.006148498032364309, 0.11394530588085722, 1.58262315964901][0.342449510165341, 0.15163861415395932]...\n",
      "Performing gradient ascend using a 20-NN density estimation.\n",
      "Creating k-d trees of resampled data sets...\n",
      "Performing clustering for scale factor p[0.005913726427599964, 0.10038335815155684, 1.619864052771311][0.25789784162311974, 0.14410785216749977]...\n",
      "Performing gradient ascend using a 20-NN density estimation.\n",
      "Creating k-d trees of resampled data sets...\n",
      "Performing clustering for scale factor p[0.005968629127063378, 0.12875051327578357, 1.5312314672206533][0.3549926890618438, 0.13956449790287884]...\n",
      "Performing gradient ascend using a 20-NN density estimation.\n",
      "Creating k-d trees of resampled data sets...\n",
      "Performing clustering for scale factor p[0.0061726166018933985, 0.10990765358709556, 1.7150212622126058][0.33734384695481867, 0.14757478469346455]...\n",
      "Performing gradient ascend using a 20-NN density estimation.\n",
      "Creating k-d trees of resampled data sets...\n",
      "Performing clustering for scale factor p[0.006308423995927111, 0.11030032878032207, 1.7641737579313825][0.2727942774595399, 0.15150393592952976]...\n",
      "Performing gradient ascend using a 20-NN density estimation.\n",
      "Creating k-d trees of resampled data sets...\n",
      "Performing clustering for scale factor p[0.005828460455720296, 0.13574093417592653, 1.7035428022566372][0.24435194466422108, 0.14813274357535391]...\n",
      "Performing gradient ascend using a 20-NN density estimation.\n",
      "Creating k-d trees of resampled data sets...\n",
      "Performing clustering for scale factor p[0.006419013425478617, 0.12460836640141448, 1.6380273328378563][0.26989426181316933, 0.1528736447838585]...\n",
      "Performing gradient ascend using a 20-NN density estimation.\n",
      "Creating k-d trees of resampled data sets...\n",
      "Performing clustering for scale factor p[0.006366006952759939, 0.11059175507300141, 1.4522580387772246][0.3225468625586593, 0.1395767322655477]...\n",
      "Performing gradient ascend using a 20-NN density estimation.\n",
      "Creating k-d trees of resampled data sets...\n",
      "Performing clustering for scale factor p[0.005943901740149968, 0.11750511910193545, 1.587518453300576][0.2560643892650555, 0.1389017730928002]...\n",
      "Performing gradient ascend using a 20-NN density estimation.\n",
      "Creating k-d trees of resampled data sets...\n",
      "Performing clustering for scale factor p[0.006035890650364463, 0.11901988209673432, 1.6041993939981396][0.3458446073512851, 0.13834311570909222]...\n",
      "Performing gradient ascend using a 20-NN density estimation.\n",
      "Creating k-d trees of resampled data sets...\n",
      "Performing clustering for scale factor p[0.006221476584148188, 0.10587605013734866, 1.6896101362646023][0.2948777252741684, 0.1379048455797462]...\n",
      "Performing gradient ascend using a 20-NN density estimation.\n",
      "Creating k-d trees of resampled data sets...\n",
      "Performing clustering for scale factor p[0.0059982419965179355, 0.12724018219521377, 1.6074409209858294][0.2393715329819548, 0.1484450417529691]...\n",
      "Performing gradient ascend using a 20-NN density estimation.\n",
      "Creating k-d trees of resampled data sets...\n",
      "Performing clustering for scale factor p[0.006454569265499798, 0.12594054502735733, 1.7577905418957551][0.2473468552579721, 0.13631719506342418]...\n",
      "Performing gradient ascend using a 20-NN density estimation.\n",
      "Creating k-d trees of resampled data sets...\n",
      "Performing clustering for scale factor p[0.0058431786422429655, 0.13654930875389182, 1.7706486828028871][0.35830232000916307, 0.1505506218446386]...\n",
      "Performing gradient ascend using a 20-NN density estimation.\n",
      "Creating k-d trees of resampled data sets...\n",
      "Performing clustering for scale factor p[0.006227886744845456, 0.1358479899334901, 1.6259786659735287][0.28238082477015847, 0.14290041311614632]...\n",
      "Performing gradient ascend using a 20-NN density estimation.\n",
      "Creating k-d trees of resampled data sets...\n",
      "Performing clustering for scale factor p[0.0062103279045333595, 0.10594562537702301, 1.4809098983708189][0.30889477988454384, 0.1420194965457167]...\n",
      "Performing gradient ascend using a 20-NN density estimation.\n",
      "Creating k-d trees of resampled data sets...\n",
      "Performing clustering for scale factor p[0.005884926689174132, 0.10654368618918274, 1.778269246218337][0.3024937323051211, 0.1380257159037782]...\n",
      "Performing gradient ascend using a 20-NN density estimation.\n",
      "Creating k-d trees of resampled data sets...\n",
      "Performing clustering for scale factor p[0.006251525967587865, 0.13632184990928203, 1.7426438788434107][0.2458297305175553, 0.13981424081307306]...\n",
      "Performing gradient ascend using a 20-NN density estimation.\n",
      "Creating k-d trees of resampled data sets...\n",
      "Performing clustering for scale factor p[0.006045057553354253, 0.12376404146149368, 1.4684977571324287][0.26825453647437186, 0.14357126018947558]...\n",
      "Performing gradient ascend using a 20-NN density estimation.\n",
      "Creating k-d trees of resampled data sets...\n",
      "Performing clustering for scale factor p[0.005833344157583922, 0.13174588514741303, 1.7103008162591544][0.28286350725379467, 0.13914148022528738]...\n",
      "Performing gradient ascend using a 20-NN density estimation.\n",
      "Creating k-d trees of resampled data sets...\n",
      "Performing clustering for scale factor p[0.006063251608482556, 0.13407670316478829, 1.5289073176705974][0.24948692693926947, 0.14652986880092495]...\n",
      "Performing gradient ascend using a 20-NN density estimation.\n",
      "Creating k-d trees of resampled data sets...\n",
      "Performing clustering for scale factor p[0.006327800307939894, 0.1206862342475862, 1.563465573078259][0.2608300692278365, 0.15192753909462392]...\n",
      "Performing gradient ascend using a 20-NN density estimation.\n",
      "Creating k-d trees of resampled data sets...\n",
      "Performing clustering for scale factor p[0.00589744031604181, 0.13289813525547262, 1.6886553780574804][0.3444603124686089, 0.15271820720431584]...\n",
      "Performing gradient ascend using a 20-NN density estimation.\n",
      "Creating k-d trees of resampled data sets...\n",
      "Performing clustering for scale factor p[0.005977502602989886, 0.11154229144896677, 1.4750186570862873][0.2984047848915615, 0.13592080140822738]...\n",
      "Performing gradient ascend using a 20-NN density estimation.\n",
      "Creating k-d trees of resampled data sets...\n",
      "Performing clustering for scale factor p[0.005952716624024096, 0.13357458845862605, 1.484738420740439][0.32448756342414115, 0.13729064804796942]...\n",
      "Performing gradient ascend using a 20-NN density estimation.\n",
      "Creating k-d trees of resampled data sets...\n",
      "Performing clustering for scale factor p[0.006496031190498497, 0.11982290544959379, 1.7755480147701879][0.2732655514022645, 0.1487603897467724]...\n",
      "Performing gradient ascend using a 20-NN density estimation.\n",
      "Creating k-d trees of resampled data sets...\n",
      "Performing clustering for scale factor p[0.006202469409904056, 0.12933097732221618, 1.7698635371285236][0.32108410550342525, 0.15029042913650367]...\n",
      "Performing gradient ascend using a 20-NN density estimation.\n",
      "Creating k-d trees of resampled data sets...\n",
      "Performing clustering for scale factor p[0.006362620588239017, 0.1177658626359445, 1.5152919521529797][0.3574999493605593, 0.14230809542811737]...\n",
      "Performing gradient ascend using a 20-NN density estimation.\n",
      "Creating k-d trees of resampled data sets...\n",
      "Performing clustering for scale factor p[0.006129847646098442, 0.10078477646951664, 1.6331768574252647][0.3409250589980723, 0.15240618608075038]...\n",
      "Performing gradient ascend using a 20-NN density estimation.\n",
      "Creating k-d trees of resampled data sets...\n",
      "Performing clustering for scale factor p[0.006439419849200308, 0.10713125272970342, 1.539846495046109][0.347696885139961, 0.13811442792034534]...\n",
      "Performing gradient ascend using a 20-NN density estimation.\n",
      "Creating k-d trees of resampled data sets...\n",
      "Performing clustering for scale factor p[0.005986346518524573, 0.12126378070267615, 1.4668629100508133][0.3447888754702645, 0.14598255769252824]...\n",
      "Performing gradient ascend using a 20-NN density estimation.\n",
      "Creating k-d trees of resampled data sets...\n",
      "Performing clustering for scale factor p[0.0062249670004494145, 0.12770204813007865, 1.6123485095979957][0.35239808016513285, 0.15083860501861582]...\n",
      "Performing gradient ascend using a 20-NN density estimation.\n",
      "Creating k-d trees of resampled data sets...\n",
      "Performing clustering for scale factor p[0.005986309986656841, 0.11339514093028903, 1.6856612210628619][0.2924777487117138, 0.152052289309823]...\n",
      "Performing gradient ascend using a 20-NN density estimation.\n",
      "Creating k-d trees of resampled data sets...\n",
      "Performing clustering for scale factor p[0.0063983261644545205, 0.11373724646711149, 1.6542322082669465][0.3164100211637819, 0.145191079178775]...\n",
      "Performing gradient ascend using a 20-NN density estimation.\n",
      "Creating k-d trees of resampled data sets...\n",
      "Performing clustering for scale factor p[0.005876882293967731, 0.1032673133489161, 1.5074265172657775][0.35061589982463065, 0.1405128678771159]...\n",
      "Performing gradient ascend using a 20-NN density estimation.\n",
      "Creating k-d trees of resampled data sets...\n",
      "Performing clustering for scale factor p[0.006355568284520707, 0.11774059875580328, 1.6703930057752414][0.2916923167121758, 0.1491356348135577]...\n",
      "Performing gradient ascend using a 20-NN density estimation.\n",
      "Creating k-d trees of resampled data sets...\n",
      "Performing clustering for scale factor p[0.005955663420569364, 0.13065571512222968, 1.6061189325337433][0.3125355078104838, 0.14608224483566268]...\n",
      "Performing gradient ascend using a 20-NN density estimation.\n",
      "Creating k-d trees of resampled data sets...\n",
      "Performing clustering for scale factor p[0.005900219164198614, 0.12807381442054558, 1.489923570725452][0.2617887296472768, 0.1478557145693866]...\n",
      "Performing gradient ascend using a 20-NN density estimation.\n",
      "Creating k-d trees of resampled data sets...\n",
      "Performing clustering for scale factor p[0.006425360825425341, 0.10201022815008597, 1.651583076221544][0.257013311730435, 0.13788525304460036]...\n",
      "Performing gradient ascend using a 20-NN density estimation.\n",
      "Creating k-d trees of resampled data sets...\n",
      "Performing clustering for scale factor p[0.006191209071481155, 0.12292917412155044, 1.6774894679342989][0.3428746955980225, 0.15135589978870392]...\n",
      "Performing gradient ascend using a 20-NN density estimation.\n",
      "(19, 48211)\n"
     ]
    },
    {
     "data": {
      "image/png": "[encoded data removed]",
      "text/plain": [
       "<Figure size 640x480 with 1 Axes>"
      ]
     },
     "metadata": {},
     "output_type": "display_data"
    }
   ],
   "source": [
    "# draw number of scale factors\n",
    "sfs, means = lhc_lloyd(r'C:\\Users\\Alexm\\OneDrive - Universität Wien\\01_WINF\\Praktikum1\\Git2\\Distant_SigMA\\DistantSigMA\\DistantSigMA\\Data/Scale_factors/' + f'sfs_region_{chunk}.txt', num_sf)\n",
    "\n",
    "# determine means for clusterer initialization\n",
    "scale_factor_means = {'pos': {'features': ['ra', 'dec', 'parallax'], 'factor': list(means[:3])},\n",
    "                      'vel': {'features': ['pmra', 'pmdec'], 'factor': list(means[3:])}}\n",
    "\n",
    "# dict for final clustering\n",
    "dict_final = dict(alpha=0.01,\n",
    "                  beta=0.99,\n",
    "                  knn_initcluster_graph=35,\n",
    "                  KNN_list=[20],\n",
    "                  sfs=sfs,\n",
    "                  scaling=None,\n",
    "                  bh_correction=False)\n",
    "\n",
    "# Generate grouped solutions\n",
    "grouped_labels = partial_clustering(df_input=df_chunk, sf_params=[\"ra\", \"dec\", \"parallax\", \"pmra\", \"pmdec\"], parameter_dict=dict_final, mode=\"final\",output_loc=result_path, column_means=scale_factor_means)\n",
    "\n",
    "print(grouped_labels.shape)\n",
    "# add the grouped solution labels to the dataframe holding the observations\n",
    "df_final = df_chunk.copy()\n",
    "for col in range(grouped_labels.shape[0]):\n",
    "    df_final.loc[:, f\"cluster_label_group_{col}\"] = grouped_labels[col, :]\n",
    "\n",
    "#df_final.to_csv(result_path+f\"Region_{chunk}_sf_{num_sf}_grouped_solutions.csv\")"
   ]
  },
  {
   "cell_type": "markdown",
   "metadata": {
    "collapsed": false
   },
   "source": [
    "### D) Tree/Graph\n",
    "\n",
    "Below this point, the routine follows the minimal_usage.ipynb script from Alex."
   ]
  },
  {
   "cell_type": "code",
   "execution_count": null,
   "metadata": {
    "ExecuteTime": {
     "end_time": "2024-06-20T12:34:27.583344Z",
     "start_time": "2024-06-20T12:34:27.582481Z"
    },
    "collapsed": false
   },
   "outputs": [],
   "source": [
    "# Creating instances of custom classes\n",
    "clusterMaster = ClusteringHandler()  # Manages cluster operations"
   ]
  },
  {
   "cell_type": "markdown",
   "metadata": {
    "collapsed": false
   },
   "source": [
    "#### Graph handling"
   ]
  },
  {
   "cell_type": "code",
   "execution_count": null,
   "metadata": {
    "ExecuteTime": {
     "end_time": "2024-06-20T12:34:28.261371Z",
     "start_time": "2024-06-20T12:34:27.583290Z"
    },
    "collapsed": false
   },
   "outputs": [],
   "source": [
    "# make consensus over the grouped labels that came out of step C)\n",
    "cc = ClusterConsensus(*grouped_labels)  # creates graph object cc.G\n",
    "translation = cc.labels_bool_dict2arr\n",
    "\n",
    "#rename the similarity in every edge to \"weight\"\n",
    "for i, j, d in cc.G.edges(data=True):\n",
    "    d['weight'] = d['similarity']\n",
    "    d['weight_minor'] = d['similarity_minor']\n",
    "    del d['similarity']\n",
    "    del d['similarity_minor']"
   ]
  },
  {
   "cell_type": "code",
   "execution_count": null,
   "metadata": {
    "ExecuteTime": {
     "end_time": "2024-06-20T12:34:28.267386Z",
     "start_time": "2024-06-20T12:34:28.265576Z"
    },
    "collapsed": false
   },
   "outputs": [],
   "source": [
    "#FIXME optimize me\n",
    "# Jaccard (minor) distances\n",
    "graph = NxGraphAssistant.remove_edges_with_minor(cc.G, 'weight', 0.3, 0.7)\n",
    "\n",
    "#FIXME optimize me\n",
    "# Merging thresholds for cliques (inner average Jaccard distance)\n",
    "graph = NxGraphAssistant.analyze_cliques(graph, 0.95)"
   ]
  },
  {
   "cell_type": "markdown",
   "metadata": {
    "collapsed": false
   },
   "source": [
    "#### Plotting"
   ]
  },
  {
   "cell_type": "code",
   "execution_count": null,
   "metadata": {
    "ExecuteTime": {
     "end_time": "2024-06-20T12:34:28.269889Z",
     "start_time": "2024-06-20T12:34:28.268173Z"
    },
    "collapsed": false
   },
   "outputs": [],
   "source": [
    "plotter = PlotHandler(translation,df_final, \"\")"
   ]
  },
  {
   "cell_type": "code",
   "execution_count": null,
   "metadata": {
    "ExecuteTime": {
     "end_time": "2024-06-20T12:34:28.567371Z",
     "start_time": "2024-06-20T12:34:28.272483Z"
    },
    "collapsed": false
   },
   "outputs": [
    {
     "ename": "AttributeError",
     "evalue": "'DataFrame' object has no attribute 'pmra_error'",
     "output_type": "error",
     "traceback": [
      "\u001b[0;31m---------------------------------------------------------------------------\u001b[0m",
      "\u001b[0;31mAttributeError\u001b[0m                            Traceback (most recent call last)",
      "\u001b[0;32m/var/folders/z6/y4rdkpdx3vlbwtmngx04x_1w0000gp/T/ipykernel_3777/714884471.py\u001b[0m in \u001b[0;36m?\u001b[0;34m()\u001b[0m\n\u001b[0;32m----> 1\u001b[0;31m \u001b[0mlabels\u001b[0m \u001b[0;34m=\u001b[0m \u001b[0mclusterMaster\u001b[0m\u001b[0;34m.\u001b[0m\u001b[0mfull_pipline_tree_hierachy\u001b[0m\u001b[0;34m(\u001b[0m\u001b[0mgraph\u001b[0m\u001b[0;34m,\u001b[0m \u001b[0mCustom_Tree\u001b[0m\u001b[0;34m.\u001b[0m\u001b[0malex_optimal\u001b[0m\u001b[0;34m,\u001b[0m \u001b[0mtranslation\u001b[0m\u001b[0;34m,\u001b[0m\u001b[0mplotter\u001b[0m\u001b[0;34m,\u001b[0m\u001b[0;36m2\u001b[0m\u001b[0;34m,\u001b[0m\u001b[0;36m1\u001b[0m\u001b[0;34m)\u001b[0m\u001b[0;34m\u001b[0m\u001b[0;34m\u001b[0m\u001b[0m\n\u001b[0m",
      "\u001b[0;32m~/PycharmProjects/Distant_SigMA/alex_workspace/ClusterHandler.py\u001b[0m in \u001b[0;36m?\u001b[0;34m(self, graph, solver, tmp, plotter, threshold, merge_option)\u001b[0m\n\u001b[1;32m    112\u001b[0m     \u001b[0;32mdef\u001b[0m \u001b[0mfull_pipline_tree_hierachy\u001b[0m\u001b[0;34m(\u001b[0m\u001b[0mself\u001b[0m\u001b[0;34m,\u001b[0m\u001b[0mgraph\u001b[0m\u001b[0;34m,\u001b[0m\u001b[0msolver\u001b[0m\u001b[0;34m,\u001b[0m\u001b[0mtmp\u001b[0m\u001b[0;34m,\u001b[0m\u001b[0mplotter\u001b[0m\u001b[0;34m,\u001b[0m\u001b[0mthreshold\u001b[0m\u001b[0;34m,\u001b[0m\u001b[0mmerge_option\u001b[0m \u001b[0;34m=\u001b[0m \u001b[0;36m0\u001b[0m\u001b[0;34m)\u001b[0m\u001b[0;34m:\u001b[0m\u001b[0;34m\u001b[0m\u001b[0;34m\u001b[0m\u001b[0m\n\u001b[1;32m    113\u001b[0m         \u001b[0mtrees\u001b[0m \u001b[0;34m=\u001b[0m \u001b[0mself\u001b[0m\u001b[0;34m.\u001b[0m\u001b[0mdo_all\u001b[0m\u001b[0;34m(\u001b[0m\u001b[0mgraph\u001b[0m\u001b[0;34m,\u001b[0m \u001b[0msolver\u001b[0m\u001b[0;34m)\u001b[0m\u001b[0;34m\u001b[0m\u001b[0;34m\u001b[0m\u001b[0m\n\u001b[1;32m    114\u001b[0m         \u001b[0;32mfor\u001b[0m \u001b[0mtree\u001b[0m \u001b[0;32min\u001b[0m \u001b[0mtrees\u001b[0m\u001b[0;34m:\u001b[0m\u001b[0;34m\u001b[0m\u001b[0;34m\u001b[0m\u001b[0m\n\u001b[0;32m--> 115\u001b[0;31m             \u001b[0mtree\u001b[0m\u001b[0;34m.\u001b[0m\u001b[0mmerge\u001b[0m\u001b[0;34m(\u001b[0m\u001b[0mplotter\u001b[0m\u001b[0;34m,\u001b[0m\u001b[0mthreshold\u001b[0m\u001b[0;34m,\u001b[0m\u001b[0mmerge_option\u001b[0m\u001b[0;34m)\u001b[0m\u001b[0;34m\u001b[0m\u001b[0;34m\u001b[0m\u001b[0m\n\u001b[0m\u001b[1;32m    116\u001b[0m         \u001b[0mlabels\u001b[0m \u001b[0;34m=\u001b[0m \u001b[0mself\u001b[0m\u001b[0;34m.\u001b[0m\u001b[0mtree_as_cluster_list\u001b[0m\u001b[0;34m(\u001b[0m\u001b[0mtrees\u001b[0m\u001b[0;34m,\u001b[0m\u001b[0mtmp\u001b[0m\u001b[0;34m)\u001b[0m\u001b[0;34m\u001b[0m\u001b[0;34m\u001b[0m\u001b[0m\n\u001b[1;32m    117\u001b[0m         \u001b[0;32mreturn\u001b[0m \u001b[0mlabels\u001b[0m\u001b[0;34m\u001b[0m\u001b[0;34m\u001b[0m\u001b[0m\n",
      "\u001b[0;32m~/PycharmProjects/Distant_SigMA/alex_workspace/Tree.py\u001b[0m in \u001b[0;36m?\u001b[0;34m(self, plotter, threshold, mode)\u001b[0m\n\u001b[1;32m    295\u001b[0m                     \u001b[0;32mfor\u001b[0m \u001b[0msibling\u001b[0m \u001b[0;32min\u001b[0m \u001b[0msibling_set\u001b[0m\u001b[0;34m:\u001b[0m\u001b[0;34m\u001b[0m\u001b[0;34m\u001b[0m\u001b[0m\n\u001b[1;32m    296\u001b[0m                         \u001b[0;32mfor\u001b[0m \u001b[0msibling2\u001b[0m \u001b[0;32min\u001b[0m \u001b[0msibling_set\u001b[0m\u001b[0;34m:\u001b[0m\u001b[0;34m\u001b[0m\u001b[0;34m\u001b[0m\u001b[0m\n\u001b[1;32m    297\u001b[0m                             \u001b[0;32mif\u001b[0m \u001b[0msibling\u001b[0m \u001b[0;34m!=\u001b[0m \u001b[0msibling2\u001b[0m\u001b[0;34m:\u001b[0m\u001b[0;34m\u001b[0m\u001b[0;34m\u001b[0m\u001b[0m\n\u001b[1;32m    298\u001b[0m                                 \u001b[0;31m# Use all parts in the comparison of the cluster so also the children of the points\u001b[0m\u001b[0;34m\u001b[0m\u001b[0;34m\u001b[0m\u001b[0m\n\u001b[0;32m--> 299\u001b[0;31m                                 \u001b[0mcondition\u001b[0m\u001b[0;34m,\u001b[0m \u001b[0mresult\u001b[0m \u001b[0;34m=\u001b[0m \u001b[0mself\u001b[0m\u001b[0;34m.\u001b[0m\u001b[0mcomparison_two_clusters_true_false\u001b[0m\u001b[0;34m(\u001b[0m\u001b[0msibling\u001b[0m\u001b[0;34m,\u001b[0m \u001b[0msibling2\u001b[0m\u001b[0;34m,\u001b[0m\u001b[0mplotter\u001b[0m\u001b[0;34m,\u001b[0m\u001b[0mthreshold\u001b[0m\u001b[0;34m)\u001b[0m\u001b[0;34m\u001b[0m\u001b[0;34m\u001b[0m\u001b[0m\n\u001b[0m\u001b[1;32m    300\u001b[0m                                 \u001b[0;32mif\u001b[0m \u001b[0mcondition\u001b[0m\u001b[0;34m:\u001b[0m\u001b[0;34m\u001b[0m\u001b[0;34m\u001b[0m\u001b[0m\n\u001b[1;32m    301\u001b[0m                                     \u001b[0;32mif\u001b[0m \u001b[0mmerch_log\u001b[0m\u001b[0;34m.\u001b[0m\u001b[0mget\u001b[0m\u001b[0;34m(\u001b[0m\u001b[0msibling\u001b[0m\u001b[0;34m.\u001b[0m\u001b[0muuid\u001b[0m\u001b[0;34m)\u001b[0m \u001b[0;32mand\u001b[0m \u001b[0msibling2\u001b[0m\u001b[0;34m.\u001b[0m\u001b[0muuid\u001b[0m \u001b[0;32min\u001b[0m \u001b[0mmerch_log\u001b[0m\u001b[0;34m[\u001b[0m\u001b[0msibling\u001b[0m\u001b[0;34m.\u001b[0m\u001b[0muuid\u001b[0m\u001b[0;34m]\u001b[0m\u001b[0;34m:\u001b[0m\u001b[0;34m\u001b[0m\u001b[0;34m\u001b[0m\u001b[0m\n\u001b[1;32m    302\u001b[0m                                         \u001b[0;32mcontinue\u001b[0m\u001b[0;34m\u001b[0m\u001b[0;34m\u001b[0m\u001b[0m\n",
      "\u001b[0;32m~/PycharmProjects/Distant_SigMA/alex_workspace/Tree.py\u001b[0m in \u001b[0;36m?\u001b[0;34m(cluster1, cluster2, plotter, threshold)\u001b[0m\n\u001b[1;32m    247\u001b[0m     \u001b[0;32mdef\u001b[0m \u001b[0mcomparison_two_clusters_true_false\u001b[0m\u001b[0;34m(\u001b[0m\u001b[0mcluster1\u001b[0m\u001b[0;34m,\u001b[0m \u001b[0mcluster2\u001b[0m\u001b[0;34m,\u001b[0m\u001b[0mplotter\u001b[0m\u001b[0;34m,\u001b[0m\u001b[0mthreshold\u001b[0m\u001b[0;34m)\u001b[0m\u001b[0;34m:\u001b[0m\u001b[0;34m\u001b[0m\u001b[0;34m\u001b[0m\u001b[0m\n\u001b[1;32m    248\u001b[0m         \u001b[0mmapCluster1\u001b[0m \u001b[0;34m=\u001b[0m \u001b[0mplotter\u001b[0m\u001b[0;34m.\u001b[0m\u001b[0mtrue_list_node\u001b[0m\u001b[0;34m(\u001b[0m\u001b[0mcluster1\u001b[0m\u001b[0;34m)\u001b[0m\u001b[0;34m\u001b[0m\u001b[0;34m\u001b[0m\u001b[0m\n\u001b[1;32m    249\u001b[0m         \u001b[0mmapCluster2\u001b[0m \u001b[0;34m=\u001b[0m \u001b[0mplotter\u001b[0m\u001b[0;34m.\u001b[0m\u001b[0mtrue_list_node\u001b[0m\u001b[0;34m(\u001b[0m\u001b[0mcluster2\u001b[0m\u001b[0;34m)\u001b[0m\u001b[0;34m\u001b[0m\u001b[0;34m\u001b[0m\u001b[0m\n\u001b[1;32m    250\u001b[0m         \u001b[0mestimator\u001b[0m \u001b[0;34m=\u001b[0m \u001b[0mEstimatorClass\u001b[0m\u001b[0;34m(\u001b[0m\u001b[0mplotter\u001b[0m\u001b[0;34m.\u001b[0m\u001b[0mdf_region\u001b[0m\u001b[0;34m)\u001b[0m\u001b[0;34m\u001b[0m\u001b[0;34m\u001b[0m\u001b[0m\n\u001b[0;32m--> 251\u001b[0;31m         \u001b[0mresult\u001b[0m \u001b[0;34m=\u001b[0m \u001b[0mestimator\u001b[0m\u001b[0;34m.\u001b[0m\u001b[0mestimate_maha_distance\u001b[0m\u001b[0;34m(\u001b[0m\u001b[0mmapCluster1\u001b[0m\u001b[0;34m,\u001b[0m \u001b[0mmapCluster2\u001b[0m\u001b[0;34m)\u001b[0m\u001b[0;34m\u001b[0m\u001b[0;34m\u001b[0m\u001b[0m\n\u001b[0m\u001b[1;32m    252\u001b[0m         \u001b[0;32mreturn\u001b[0m \u001b[0mresult\u001b[0m \u001b[0;34m<\u001b[0m \u001b[0mthreshold\u001b[0m\u001b[0;34m,\u001b[0m \u001b[0mresult\u001b[0m\u001b[0;34m\u001b[0m\u001b[0;34m\u001b[0m\u001b[0m\n",
      "\u001b[0;32m~/PycharmProjects/Distant_SigMA/alex_workspace/EstimateClass.py\u001b[0m in \u001b[0;36m?\u001b[0;34m(self, indices_1, indices_2)\u001b[0m\n\u001b[1;32m     48\u001b[0m             \u001b[0mbool_arr_1\u001b[0m \u001b[0;34m=\u001b[0m \u001b[0mindices_1\u001b[0m\u001b[0;34m\u001b[0m\u001b[0;34m\u001b[0m\u001b[0m\n\u001b[1;32m     49\u001b[0m             \u001b[0mbool_arr_2\u001b[0m \u001b[0;34m=\u001b[0m \u001b[0mindices_2\u001b[0m\u001b[0;34m\u001b[0m\u001b[0;34m\u001b[0m\u001b[0m\n\u001b[1;32m     50\u001b[0m \u001b[0;34m\u001b[0m\u001b[0m\n\u001b[1;32m     51\u001b[0m         \u001b[0mdata_subset\u001b[0m \u001b[0;34m=\u001b[0m \u001b[0mcbve\u001b[0m\u001b[0;34m.\u001b[0m\u001b[0mdata\u001b[0m\u001b[0;34m.\u001b[0m\u001b[0mloc\u001b[0m\u001b[0;34m[\u001b[0m\u001b[0;34m~\u001b[0m\u001b[0mcbve\u001b[0m\u001b[0;34m.\u001b[0m\u001b[0mrv_isnan\u001b[0m \u001b[0;34m&\u001b[0m \u001b[0;34m(\u001b[0m\u001b[0mbool_arr_1\u001b[0m \u001b[0;34m|\u001b[0m \u001b[0mbool_arr_2\u001b[0m\u001b[0;34m)\u001b[0m\u001b[0;34m]\u001b[0m\u001b[0;34m\u001b[0m\u001b[0;34m\u001b[0m\u001b[0m\n\u001b[0;32m---> 52\u001b[0;31m         C_vel = np.diag([data_subset.pmra_error.mean(), data_subset.pmdec_error.mean(),\n\u001b[0m\u001b[1;32m     53\u001b[0m                          data_subset.radial_velocity_error.mean()]) ** 2\n\u001b[1;32m     54\u001b[0m         \u001b[0;31m# This creates a copy of the data --> not efficient and better to pass the object created to this function instead of the data (see below)\u001b[0m\u001b[0;34m\u001b[0m\u001b[0;34m\u001b[0m\u001b[0m\n\u001b[1;32m     55\u001b[0m         \u001b[0;31m# Estimate mean and covariance of the two clusters\u001b[0m\u001b[0;34m\u001b[0m\u001b[0;34m\u001b[0m\u001b[0m\n",
      "\u001b[0;32m/opt/anaconda3/envs/Sigma_Orion/lib/python3.9/site-packages/pandas/core/generic.py\u001b[0m in \u001b[0;36m?\u001b[0;34m(self, name)\u001b[0m\n\u001b[1;32m   5898\u001b[0m             \u001b[0;32mand\u001b[0m \u001b[0mname\u001b[0m \u001b[0;32mnot\u001b[0m \u001b[0;32min\u001b[0m \u001b[0mself\u001b[0m\u001b[0;34m.\u001b[0m\u001b[0m_accessors\u001b[0m\u001b[0;34m\u001b[0m\u001b[0;34m\u001b[0m\u001b[0m\n\u001b[1;32m   5899\u001b[0m             \u001b[0;32mand\u001b[0m \u001b[0mself\u001b[0m\u001b[0;34m.\u001b[0m\u001b[0m_info_axis\u001b[0m\u001b[0;34m.\u001b[0m\u001b[0m_can_hold_identifiers_and_holds_name\u001b[0m\u001b[0;34m(\u001b[0m\u001b[0mname\u001b[0m\u001b[0;34m)\u001b[0m\u001b[0;34m\u001b[0m\u001b[0;34m\u001b[0m\u001b[0m\n\u001b[1;32m   5900\u001b[0m         ):\n\u001b[1;32m   5901\u001b[0m             \u001b[0;32mreturn\u001b[0m \u001b[0mself\u001b[0m\u001b[0;34m[\u001b[0m\u001b[0mname\u001b[0m\u001b[0;34m]\u001b[0m\u001b[0;34m\u001b[0m\u001b[0;34m\u001b[0m\u001b[0m\n\u001b[0;32m-> 5902\u001b[0;31m         \u001b[0;32mreturn\u001b[0m \u001b[0mobject\u001b[0m\u001b[0;34m.\u001b[0m\u001b[0m__getattribute__\u001b[0m\u001b[0;34m(\u001b[0m\u001b[0mself\u001b[0m\u001b[0;34m,\u001b[0m \u001b[0mname\u001b[0m\u001b[0;34m)\u001b[0m\u001b[0;34m\u001b[0m\u001b[0;34m\u001b[0m\u001b[0m\n\u001b[0m",
      "\u001b[0;31mAttributeError\u001b[0m: 'DataFrame' object has no attribute 'pmra_error'"
     ]
    }
   ],
   "source": [
    "labels = clusterMaster.full_pipline_tree_hierachy(graph, Custom_Tree.alex_optimal, translation,plotter,2,1)"
   ]
  },
  {
   "cell_type": "code",
   "execution_count": null,
   "metadata": {
    "collapsed": false
   },
   "outputs": [],
   "source": [
    "\n",
    "\n",
    "\n",
    "plotter.plot_labels_3D(labels)\n",
    "plotter.plot_labels_2D(labels)"
   ]
  }
 ],
 "metadata": {
  "kernelspec": {
   "display_name": "Python 3",
   "language": "python",
   "name": "python3"
  },
  "language_info": {
   "codemirror_mode": {
    "name": "ipython",
    "version": 3
   },
   "file_extension": ".py",
   "mimetype": "text/x-python",
   "name": "python",
   "nbconvert_exporter": "python",
   "pygments_lexer": "ipython3",
   "version": "3.12.2"
  }
 },
 "nbformat": 4,
 "nbformat_minor": 0
}
